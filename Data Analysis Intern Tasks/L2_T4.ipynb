{
  "nbformat": 4,
  "nbformat_minor": 0,
  "metadata": {
    "colab": {
      "provenance": []
    },
    "kernelspec": {
      "name": "python3",
      "display_name": "Python 3"
    },
    "language_info": {
      "name": "python"
    }
  },
  "cells": [
    {
      "cell_type": "code",
      "execution_count": null,
      "metadata": {
        "id": "DHlIkdC5PDc1"
      },
      "outputs": [],
      "source": [
        "import pandas as pd\n"
      ]
    },
    {
      "cell_type": "code",
      "source": [
        "path = 'Dataset .xlsx'"
      ],
      "metadata": {
        "id": "Ck45827FQYya"
      },
      "execution_count": null,
      "outputs": []
    },
    {
      "cell_type": "code",
      "source": [
        "data = pd.read_excel(path)"
      ],
      "metadata": {
        "id": "yBy_ygsWQfFr"
      },
      "execution_count": null,
      "outputs": []
    },
    {
      "cell_type": "code",
      "source": [
        "restaurant_counts = data['Restaurant Name'].value_counts()"
      ],
      "metadata": {
        "id": "J5TdqBppQj-C"
      },
      "execution_count": null,
      "outputs": []
    },
    {
      "cell_type": "code",
      "source": [
        "print(\"restaurants name counts :\")\n",
        "print(restaurant_counts)"
      ],
      "metadata": {
        "colab": {
          "base_uri": "https://localhost:8080/"
        },
        "id": "jr6dL-tlQ0JV",
        "outputId": "886e1132-1bf0-4e4e-ba65-6cf919c95538"
      },
      "execution_count": null,
      "outputs": [
        {
          "output_type": "stream",
          "name": "stdout",
          "text": [
            "restaurants name counts :\n",
            "Cafe Coffee Day             83\n",
            "Domino's Pizza              79\n",
            "Subway                      63\n",
            "Green Chick Chop            51\n",
            "McDonald's                  48\n",
            "                            ..\n",
            "Odeon Social                 1\n",
            "Johnny Rockets               1\n",
            "House of Commons             1\n",
            "HotMess                      1\n",
            "Walter's Coffee Roastery     1\n",
            "Name: Restaurant Name, Length: 7446, dtype: int64\n"
          ]
        }
      ]
    },
    {
      "cell_type": "code",
      "source": [
        "potential_chains = restaurant_counts[restaurant_counts > 1].index"
      ],
      "metadata": {
        "id": "9hrRVJ12Q8ze"
      },
      "execution_count": null,
      "outputs": []
    },
    {
      "cell_type": "code",
      "source": [
        "print(\"potentail restaurant chains :\")\n",
        "print(potential_chains)"
      ],
      "metadata": {
        "colab": {
          "base_uri": "https://localhost:8080/"
        },
        "id": "KfXFyHjdRGOO",
        "outputId": "ce164a4d-67f1-48c0-9cf1-cfc5a819e9e6"
      },
      "execution_count": null,
      "outputs": [
        {
          "output_type": "stream",
          "name": "stdout",
          "text": [
            "potentail restaurant chains :\n",
            "Index(['Cafe Coffee Day', 'Domino's Pizza', 'Subway', 'Green Chick Chop',\n",
            "       'McDonald's', 'Keventers', 'Pizza Hut', 'Giani', 'Baskin Robbins',\n",
            "       'Barbeque Nation',\n",
            "       ...\n",
            "       'Raasta', 'The Pint Room', 'Snacks Point', 'The Dosa King', 'Chokola',\n",
            "       'Town Hall', 'Halki Aanch', 'Snack Junction', 'Delhi Biryani Hut',\n",
            "       'Beliram Degchiwala'],\n",
            "      dtype='object', length=734)\n"
          ]
        }
      ]
    },
    {
      "cell_type": "code",
      "source": [
        "data['Chain'] = data['Restaurant Name'].apply(lambda x: 'Chain' if data['Restaurant Name'].value_counts()[x] > 1 else 'Not Chain')"
      ],
      "metadata": {
        "id": "kLWawqDARdCQ"
      },
      "execution_count": null,
      "outputs": []
    },
    {
      "cell_type": "code",
      "source": [
        "chain_grouped = data.groupby('Chain')"
      ],
      "metadata": {
        "id": "aXs_KPiHSC8V"
      },
      "execution_count": null,
      "outputs": []
    },
    {
      "cell_type": "code",
      "source": [
        "chain_stats = chain_grouped.agg({'Aggregate rating': 'mean', 'Votes': 'sum'}).reset_index()"
      ],
      "metadata": {
        "id": "BUxqxozcSx_z"
      },
      "execution_count": null,
      "outputs": []
    },
    {
      "cell_type": "code",
      "source": [
        "print(\"Rating and Popularity of different restaurants :\")\n",
        "print(chain_stats)"
      ],
      "metadata": {
        "colab": {
          "base_uri": "https://localhost:8080/"
        },
        "id": "nIie08OlULKK",
        "outputId": "462d0337-86f0-41ab-e1a0-60a283cb0ac6"
      },
      "execution_count": null,
      "outputs": [
        {
          "output_type": "stream",
          "name": "stdout",
          "text": [
            "Rating and Popularity of different restaurants :\n",
            "       Chain  Aggregate rating   Votes\n",
            "0      Chain          2.789926  510664\n",
            "1  Not Chain          2.614109  987981\n"
          ]
        }
      ]
    },
    {
      "cell_type": "code",
      "source": [],
      "metadata": {
        "id": "3qs8Le_ZUa0j"
      },
      "execution_count": null,
      "outputs": []
    }
  ]
}