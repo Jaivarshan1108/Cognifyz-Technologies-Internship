{
  "nbformat": 4,
  "nbformat_minor": 0,
  "metadata": {
    "colab": {
      "provenance": []
    },
    "kernelspec": {
      "name": "python3",
      "display_name": "Python 3"
    },
    "language_info": {
      "name": "python"
    }
  },
  "cells": [
    {
      "cell_type": "code",
      "execution_count": null,
      "metadata": {
        "id": "Y2sA7_GT6WOX"
      },
      "outputs": [],
      "source": [
        "import pandas as pd"
      ]
    },
    {
      "cell_type": "code",
      "source": [
        "path = 'Dataset .xlsx'"
      ],
      "metadata": {
        "id": "XLAaPA6ayTcY"
      },
      "execution_count": null,
      "outputs": []
    },
    {
      "cell_type": "code",
      "source": [
        "data = pd.read_excel(path)"
      ],
      "metadata": {
        "id": "g8yF8rJFyeKM"
      },
      "execution_count": null,
      "outputs": []
    },
    {
      "cell_type": "code",
      "source": [
        "data.info()"
      ],
      "metadata": {
        "colab": {
          "base_uri": "https://localhost:8080/"
        },
        "id": "ep2eDZ2Myhxw",
        "outputId": "b292a91e-d13f-4141-a6fa-a9489749624a"
      },
      "execution_count": null,
      "outputs": [
        {
          "output_type": "stream",
          "name": "stdout",
          "text": [
            "<class 'pandas.core.frame.DataFrame'>\n",
            "RangeIndex: 9551 entries, 0 to 9550\n",
            "Data columns (total 21 columns):\n",
            " #   Column                Non-Null Count  Dtype  \n",
            "---  ------                --------------  -----  \n",
            " 0   Restaurant ID         9551 non-null   int64  \n",
            " 1   Restaurant Name       9551 non-null   object \n",
            " 2   Country Code          9551 non-null   int64  \n",
            " 3   City                  9551 non-null   object \n",
            " 4   Address               9551 non-null   object \n",
            " 5   Locality              9551 non-null   object \n",
            " 6   Locality Verbose      9551 non-null   object \n",
            " 7   Longitude             9551 non-null   float64\n",
            " 8   Latitude              9551 non-null   float64\n",
            " 9   Cuisines              9542 non-null   object \n",
            " 10  Average Cost for two  9551 non-null   int64  \n",
            " 11  Currency              9551 non-null   object \n",
            " 12  Has Table booking     9551 non-null   object \n",
            " 13  Has Online delivery   9551 non-null   object \n",
            " 14  Is delivering now     9551 non-null   object \n",
            " 15  Switch to order menu  9551 non-null   object \n",
            " 16  Price range           9551 non-null   int64  \n",
            " 17  Aggregate rating      9551 non-null   float64\n",
            " 18  Rating color          9551 non-null   object \n",
            " 19  Rating text           9551 non-null   object \n",
            " 20  Votes                 9551 non-null   int64  \n",
            "dtypes: float64(3), int64(5), object(13)\n",
            "memory usage: 1.5+ MB\n"
          ]
        }
      ]
    },
    {
      "cell_type": "code",
      "source": [
        "data['cuisine_combination'] = data['Cuisines'].apply(lambda x: ',' .join(sorted(str(c)for c in x.split(',')))if pd.notna(x) else '')"
      ],
      "metadata": {
        "id": "nhfZrKlSyme9"
      },
      "execution_count": null,
      "outputs": []
    },
    {
      "cell_type": "code",
      "source": [
        "most_common_cuisine_combination = data['cuisine_combination'].value_counts().idxmax()"
      ],
      "metadata": {
        "id": "czoCuFsczQsy"
      },
      "execution_count": null,
      "outputs": []
    },
    {
      "cell_type": "code",
      "source": [
        "print(f\"the most common combination of cuisines is : {most_common_cuisine_combination}\")"
      ],
      "metadata": {
        "colab": {
          "base_uri": "https://localhost:8080/"
        },
        "id": "xOVtVfRy0mXq",
        "outputId": "cc157b9f-24f0-4ffc-f475-55f976614679"
      },
      "execution_count": null,
      "outputs": [
        {
          "output_type": "stream",
          "name": "stdout",
          "text": [
            "the most common combination of cuisines is : North Indian\n"
          ]
        }
      ]
    },
    {
      "cell_type": "code",
      "source": [
        "average_rating_by_cuisine_combination = data.groupby('cuisine_combination')['Aggregate rating'].mean()"
      ],
      "metadata": {
        "id": "Az4VsEVG01ul"
      },
      "execution_count": null,
      "outputs": []
    },
    {
      "cell_type": "code",
      "source": [
        "print('Average Rating for each cuisine combination')\n",
        "print(average_rating_by_cuisine_combination)"
      ],
      "metadata": {
        "colab": {
          "base_uri": "https://localhost:8080/"
        },
        "id": "dNZCOpP45Bar",
        "outputId": "39966b4c-63ee-4170-8880-65df9a9f2805"
      },
      "execution_count": null,
      "outputs": [
        {
          "output_type": "stream",
          "name": "stdout",
          "text": [
            "Average Rating for each cuisine combination\n",
            "cuisine_combination\n",
            "                                          3.866667\n",
            " Afghani, Chinese, Indian,Pakistani       4.100000\n",
            " Afghani, Curry, Indian,Pakistani         3.900000\n",
            " Afghani, Fast Food,North Indian          3.000000\n",
            " Afghani, Hyderabadi, Indian,Pakistani    4.000000\n",
            "                                            ...   \n",
            "Tibetan                                   0.000000\n",
            "Turkish                                   3.400000\n",
            "Turkish Pizza                             4.300000\n",
            "Vietnamese                                4.050000\n",
            "World Cuisine                             4.900000\n",
            "Name: Aggregate rating, Length: 1636, dtype: float64\n"
          ]
        }
      ]
    },
    {
      "cell_type": "code",
      "source": [
        "highest_avg_rating_combination = average_rating_by_cuisine_combination.idxmax()\n",
        "highest_avg_rating = average_rating_by_cuisine_combination.max()"
      ],
      "metadata": {
        "id": "AVbvv93g5O7d"
      },
      "execution_count": null,
      "outputs": []
    },
    {
      "cell_type": "code",
      "source": [
        "print(f\"the cuisine combiantion with the highest average rating is :{highest_avg_rating_combination}\")\n",
        "print(f\"the highest average rating is : {highest_avg_rating}\")"
      ],
      "metadata": {
        "colab": {
          "base_uri": "https://localhost:8080/"
        },
        "id": "CUzD-sn55qS0",
        "outputId": "bd3ab398-f156-4ea1-e25b-bd734d2e795b"
      },
      "execution_count": null,
      "outputs": [
        {
          "output_type": "stream",
          "name": "stdout",
          "text": [
            "the cuisine combiantion with the highest average rating is : American, Healthy Food,Mexican\n",
            "the highest average rating is : 4.9\n"
          ]
        }
      ]
    },
    {
      "cell_type": "code",
      "source": [],
      "metadata": {
        "id": "e2vj3ksa6Gh6"
      },
      "execution_count": null,
      "outputs": []
    }
  ]
}