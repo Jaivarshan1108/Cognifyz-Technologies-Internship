{
  "nbformat": 4,
  "nbformat_minor": 0,
  "metadata": {
    "colab": {
      "provenance": []
    },
    "kernelspec": {
      "name": "python3",
      "display_name": "Python 3"
    },
    "language_info": {
      "name": "python"
    }
  },
  "cells": [
    {
      "cell_type": "code",
      "execution_count": null,
      "metadata": {
        "id": "FJrR_o0i3qmD"
      },
      "outputs": [],
      "source": [
        "import pandas as pd\n",
        "import matplotlib as plt"
      ]
    },
    {
      "cell_type": "code",
      "source": [
        "path = '/content/Dataset jai.xlsx'"
      ],
      "metadata": {
        "id": "Y1U_fug66zgk"
      },
      "execution_count": null,
      "outputs": []
    },
    {
      "cell_type": "code",
      "source": [
        "data = pd.read_excel(path)"
      ],
      "metadata": {
        "id": "tlNJ53ta63eF"
      },
      "execution_count": null,
      "outputs": []
    },
    {
      "cell_type": "code",
      "source": [
        "online_delivery_counts = data['Has Online delivery'].value_counts()\n",
        "online_delivery_counts"
      ],
      "metadata": {
        "id": "waKx9dc969qb",
        "colab": {
          "base_uri": "https://localhost:8080/"
        },
        "outputId": "d36e281e-bdd5-4cff-9b56-7db127cb8882"
      },
      "execution_count": null,
      "outputs": [
        {
          "output_type": "execute_result",
          "data": {
            "text/plain": [
              "No     7100\n",
              "Yes    2451\n",
              "Name: Has Online delivery, dtype: int64"
            ]
          },
          "metadata": {},
          "execution_count": 21
        }
      ]
    },
    {
      "cell_type": "code",
      "source": [
        "total_resturants = len(data)\n",
        "percentage_online_delivery = (online_delivery_counts / total_resturants ) * 100"
      ],
      "metadata": {
        "id": "obv559WU7tYP"
      },
      "execution_count": null,
      "outputs": []
    },
    {
      "cell_type": "code",
      "source": [
        "print(\"percentage of restaurants that offer online delivery\")\n",
        "print(percentage_online_delivery)"
      ],
      "metadata": {
        "colab": {
          "base_uri": "https://localhost:8080/"
        },
        "id": "5UrHbdF-8OF3",
        "outputId": "388a44e9-7910-42af-ed40-a5d132fd8ade"
      },
      "execution_count": null,
      "outputs": [
        {
          "output_type": "stream",
          "name": "stdout",
          "text": [
            "percentage of restaurants that offer online delivery\n",
            "No     74.337766\n",
            "Yes    25.662234\n",
            "Name: Has Online delivery, dtype: float64\n"
          ]
        }
      ]
    },
    {
      "cell_type": "code",
      "source": [
        "average_rating_by_delivery = data.groupby('Has Online delivery')['Aggregate rating'].mean()"
      ],
      "metadata": {
        "id": "jbn_8r8p8diD"
      },
      "execution_count": null,
      "outputs": []
    },
    {
      "cell_type": "code",
      "source": [
        "print(\"average rating for restaurants with and without online delivery\")\n",
        "print(average_rating_by_delivery)"
      ],
      "metadata": {
        "colab": {
          "base_uri": "https://localhost:8080/"
        },
        "id": "dWr-WO6m85WB",
        "outputId": "7896e962-e1f7-447b-ff1d-83bf6a03a916"
      },
      "execution_count": null,
      "outputs": [
        {
          "output_type": "stream",
          "name": "stdout",
          "text": [
            "average rating for restaurants with and without online delivery\n",
            "Has Online delivery\n",
            "No     2.465296\n",
            "Yes    3.248837\n",
            "Name: Aggregate rating, dtype: float64\n"
          ]
        }
      ]
    }
  ]
}